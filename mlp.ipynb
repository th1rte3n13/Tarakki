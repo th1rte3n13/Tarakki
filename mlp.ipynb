{
 "cells": [
  {
   "cell_type": "code",
   "execution_count": 1,
   "id": "b6072b22",
   "metadata": {},
   "outputs": [],
   "source": [
    "import pandas as pd\n",
    "from sklearn.model_selection import train_test_split\n",
    "from sklearn.preprocessing import StandardScaler, LabelEncoder\n",
    "from sklearn.neural_network import MLPClassifier\n",
    "from sklearn.metrics import classification_report, accuracy_score"
   ]
  },
  {
   "cell_type": "code",
   "execution_count": 2,
   "id": "9dd4e2f9",
   "metadata": {},
   "outputs": [],
   "source": [
    "# Load dataset\n",
    "data = pd.read_csv('Data2.csv')"
   ]
  },
  {
   "cell_type": "code",
   "execution_count": 3,
   "id": "634a18f0",
   "metadata": {},
   "outputs": [],
   "source": [
    "# Separate features and target\n",
    "X = data.drop(columns=['Career'])\n",
    "y = data['Career']"
   ]
  },
  {
   "cell_type": "code",
   "execution_count": 4,
   "id": "901c0817",
   "metadata": {},
   "outputs": [],
   "source": [
    "# Encode the target variable\n",
    "label_encoder = LabelEncoder()\n",
    "y_encoded = label_encoder.fit_transform(y)"
   ]
  },
  {
   "cell_type": "code",
   "execution_count": 5,
   "id": "d7abbaee",
   "metadata": {},
   "outputs": [],
   "source": [
    "# Split data into training and testing sets\n",
    "X_train, X_test, y_train, y_test = train_test_split(X, y_encoded, test_size=0.2, random_state=42)"
   ]
  },
  {
   "cell_type": "code",
   "execution_count": 6,
   "id": "a7a662c9",
   "metadata": {},
   "outputs": [],
   "source": [
    "# Scale the feature values\n",
    "scaler = StandardScaler()\n",
    "X_train_scaled = scaler.fit_transform(X_train)\n",
    "X_test_scaled = scaler.transform(X_test)"
   ]
  },
  {
   "cell_type": "code",
   "execution_count": 7,
   "id": "67328bce",
   "metadata": {},
   "outputs": [
    {
     "name": "stderr",
     "output_type": "stream",
     "text": [
      "C:\\Users\\Max Gonsalves\\AppData\\Roaming\\Python\\Python311\\site-packages\\sklearn\\neural_network\\_multilayer_perceptron.py:691: ConvergenceWarning: Stochastic Optimizer: Maximum iterations (300) reached and the optimization hasn't converged yet.\n",
      "  warnings.warn(\n"
     ]
    },
    {
     "data": {
      "text/html": [
       "<style>#sk-container-id-1 {color: black;}#sk-container-id-1 pre{padding: 0;}#sk-container-id-1 div.sk-toggleable {background-color: white;}#sk-container-id-1 label.sk-toggleable__label {cursor: pointer;display: block;width: 100%;margin-bottom: 0;padding: 0.3em;box-sizing: border-box;text-align: center;}#sk-container-id-1 label.sk-toggleable__label-arrow:before {content: \"▸\";float: left;margin-right: 0.25em;color: #696969;}#sk-container-id-1 label.sk-toggleable__label-arrow:hover:before {color: black;}#sk-container-id-1 div.sk-estimator:hover label.sk-toggleable__label-arrow:before {color: black;}#sk-container-id-1 div.sk-toggleable__content {max-height: 0;max-width: 0;overflow: hidden;text-align: left;background-color: #f0f8ff;}#sk-container-id-1 div.sk-toggleable__content pre {margin: 0.2em;color: black;border-radius: 0.25em;background-color: #f0f8ff;}#sk-container-id-1 input.sk-toggleable__control:checked~div.sk-toggleable__content {max-height: 200px;max-width: 100%;overflow: auto;}#sk-container-id-1 input.sk-toggleable__control:checked~label.sk-toggleable__label-arrow:before {content: \"▾\";}#sk-container-id-1 div.sk-estimator input.sk-toggleable__control:checked~label.sk-toggleable__label {background-color: #d4ebff;}#sk-container-id-1 div.sk-label input.sk-toggleable__control:checked~label.sk-toggleable__label {background-color: #d4ebff;}#sk-container-id-1 input.sk-hidden--visually {border: 0;clip: rect(1px 1px 1px 1px);clip: rect(1px, 1px, 1px, 1px);height: 1px;margin: -1px;overflow: hidden;padding: 0;position: absolute;width: 1px;}#sk-container-id-1 div.sk-estimator {font-family: monospace;background-color: #f0f8ff;border: 1px dotted black;border-radius: 0.25em;box-sizing: border-box;margin-bottom: 0.5em;}#sk-container-id-1 div.sk-estimator:hover {background-color: #d4ebff;}#sk-container-id-1 div.sk-parallel-item::after {content: \"\";width: 100%;border-bottom: 1px solid gray;flex-grow: 1;}#sk-container-id-1 div.sk-label:hover label.sk-toggleable__label {background-color: #d4ebff;}#sk-container-id-1 div.sk-serial::before {content: \"\";position: absolute;border-left: 1px solid gray;box-sizing: border-box;top: 0;bottom: 0;left: 50%;z-index: 0;}#sk-container-id-1 div.sk-serial {display: flex;flex-direction: column;align-items: center;background-color: white;padding-right: 0.2em;padding-left: 0.2em;position: relative;}#sk-container-id-1 div.sk-item {position: relative;z-index: 1;}#sk-container-id-1 div.sk-parallel {display: flex;align-items: stretch;justify-content: center;background-color: white;position: relative;}#sk-container-id-1 div.sk-item::before, #sk-container-id-1 div.sk-parallel-item::before {content: \"\";position: absolute;border-left: 1px solid gray;box-sizing: border-box;top: 0;bottom: 0;left: 50%;z-index: -1;}#sk-container-id-1 div.sk-parallel-item {display: flex;flex-direction: column;z-index: 1;position: relative;background-color: white;}#sk-container-id-1 div.sk-parallel-item:first-child::after {align-self: flex-end;width: 50%;}#sk-container-id-1 div.sk-parallel-item:last-child::after {align-self: flex-start;width: 50%;}#sk-container-id-1 div.sk-parallel-item:only-child::after {width: 0;}#sk-container-id-1 div.sk-dashed-wrapped {border: 1px dashed gray;margin: 0 0.4em 0.5em 0.4em;box-sizing: border-box;padding-bottom: 0.4em;background-color: white;}#sk-container-id-1 div.sk-label label {font-family: monospace;font-weight: bold;display: inline-block;line-height: 1.2em;}#sk-container-id-1 div.sk-label-container {text-align: center;}#sk-container-id-1 div.sk-container {/* jupyter's `normalize.less` sets `[hidden] { display: none; }` but bootstrap.min.css set `[hidden] { display: none !important; }` so we also need the `!important` here to be able to override the default hidden behavior on the sphinx rendered scikit-learn.org. See: https://github.com/scikit-learn/scikit-learn/issues/21755 */display: inline-block !important;position: relative;}#sk-container-id-1 div.sk-text-repr-fallback {display: none;}</style><div id=\"sk-container-id-1\" class=\"sk-top-container\"><div class=\"sk-text-repr-fallback\"><pre>MLPClassifier(hidden_layer_sizes=(100, 50), max_iter=300, random_state=42)</pre><b>In a Jupyter environment, please rerun this cell to show the HTML representation or trust the notebook. <br />On GitHub, the HTML representation is unable to render, please try loading this page with nbviewer.org.</b></div><div class=\"sk-container\" hidden><div class=\"sk-item\"><div class=\"sk-estimator sk-toggleable\"><input class=\"sk-toggleable__control sk-hidden--visually\" id=\"sk-estimator-id-1\" type=\"checkbox\" checked><label for=\"sk-estimator-id-1\" class=\"sk-toggleable__label sk-toggleable__label-arrow\">MLPClassifier</label><div class=\"sk-toggleable__content\"><pre>MLPClassifier(hidden_layer_sizes=(100, 50), max_iter=300, random_state=42)</pre></div></div></div></div></div>"
      ],
      "text/plain": [
       "MLPClassifier(hidden_layer_sizes=(100, 50), max_iter=300, random_state=42)"
      ]
     },
     "execution_count": 7,
     "metadata": {},
     "output_type": "execute_result"
    }
   ],
   "source": [
    "# Initialize and train the MLP model\n",
    "mlp = MLPClassifier(hidden_layer_sizes=(100, 50), max_iter=300, random_state=42)\n",
    "mlp.fit(X_train_scaled, y_train)"
   ]
  },
  {
   "cell_type": "code",
   "execution_count": 8,
   "id": "ccceaaa9",
   "metadata": {},
   "outputs": [],
   "source": [
    "y_pred = mlp.predict(X_test_scaled)"
   ]
  },
  {
   "cell_type": "code",
   "execution_count": 9,
   "id": "925c2e5d",
   "metadata": {},
   "outputs": [],
   "source": [
    "# Evaluate the model\n",
    "accuracy = accuracy_score(y_test, y_pred)\n",
    "report = classification_report(y_test, y_pred, target_names=label_encoder.classes_)"
   ]
  },
  {
   "cell_type": "code",
   "execution_count": 10,
   "id": "3b5a34ad",
   "metadata": {},
   "outputs": [
    {
     "name": "stdout",
     "output_type": "stream",
     "text": [
      "Accuracy: 0.49\n",
      "Classification Report:\n",
      "                                        precision    recall  f1-score   support\n",
      "\n",
      "                           Accountant       1.00      0.97      0.98       217\n",
      "               Administrative Officer       0.08      0.04      0.05       194\n",
      "                Advertising Executive       0.53      0.66      0.58       219\n",
      "                   Aerospace Engineer       0.20      0.45      0.27       192\n",
      "               Air Traffic Controller       0.32      0.31      0.32       197\n",
      "                        Airline Pilot       1.00      1.00      1.00       226\n",
      "                            Architect       0.99      0.99      0.99       196\n",
      "                               Artist       0.96      0.99      0.97       208\n",
      "                           Astronomer       0.18      0.02      0.04       199\n",
      "                            Biologist       0.97      0.98      0.98       188\n",
      "                  Biomedical Engineer       0.36      0.24      0.29       200\n",
      "                Biomedical Researcher       0.34      0.10      0.16       191\n",
      "                      Biotechnologist       0.34      0.69      0.46       206\n",
      "                                 Chef       1.00      1.00      1.00       203\n",
      "                         Chiropractor       0.23      0.24      0.24       198\n",
      "                       Civil Engineer       0.31      0.62      0.42       189\n",
      "                Construction Engineer       1.00      1.00      1.00       206\n",
      "Customs and Border Protection Officer       0.54      0.73      0.62       211\n",
      "                         Data Analyst       0.26      0.35      0.30       184\n",
      "               Database Administrator       0.09      0.02      0.03       207\n",
      "                     Database Analyst       0.15      0.28      0.20       213\n",
      "                     Dental Hygienist       0.07      0.04      0.05       188\n",
      "                             Diplomat       0.06      0.03      0.04       216\n",
      "                  Electrical Engineer       0.19      0.40      0.26       196\n",
      "          Electronics Design Engineer       0.28      0.10      0.14       187\n",
      "            Elementary School Teacher       0.96      0.99      0.97       207\n",
      "               Environmental Engineer       0.47      0.98      0.63       178\n",
      "              Environmental Scientist       0.96      0.52      0.67       408\n",
      "                   Event Photographer       0.98      1.00      0.99       201\n",
      "                        Event Planner       1.00      1.00      1.00       210\n",
      "                     Fashion Designer       0.96      0.94      0.95       196\n",
      "                      Fashion Stylist       0.22      0.17      0.19       187\n",
      "                        Film Director       0.33      0.06      0.10       193\n",
      "                    Financial Advisor       0.14      0.36      0.20       207\n",
      "                    Financial Analyst       0.53      0.24      0.33       191\n",
      "                    Financial Auditor       0.31      0.39      0.34       194\n",
      "                    Financial Planner       0.53      0.80      0.64       204\n",
      "              Foreign Service Officer       0.06      0.03      0.04       186\n",
      "                Forensic Psychologist       0.17      0.10      0.13       201\n",
      "                   Forensic Scientist       0.26      0.29      0.27       221\n",
      "                  Forestry Technician       0.48      0.27      0.34       202\n",
      "                       Game Developer       0.28      0.11      0.16       177\n",
      "                    Genetic Counselor       0.08      0.13      0.10       209\n",
      "                            Geologist       0.24      0.26      0.25       207\n",
      "                     Graphic Designer       0.99      0.99      0.99       193\n",
      "                         HR Recruiter       0.99      0.97      0.98       195\n",
      "              Human Resources Manager       0.46      0.51      0.48       201\n",
      "                  Human Rights Lawyer       0.30      0.17      0.22       201\n",
      "                   IT Project Manager       0.97      0.94      0.96       174\n",
      "                IT Support Specialist       0.17      0.12      0.14       195\n",
      "                  Industrial Engineer       0.39      0.06      0.11       213\n",
      "                Insurance Underwriter       0.15      0.08      0.10       195\n",
      "                    Interior Designer       0.21      0.48      0.29       186\n",
      "                    Investment Banker       0.99      0.99      0.99       197\n",
      "                           Journalist       0.95      0.98      0.96       203\n",
      "                               Lawyer       0.92      0.92      0.92       178\n",
      "                     Marine Biologist       0.21      0.28      0.24       205\n",
      "              Market Research Analyst       0.05      0.04      0.05       201\n",
      "                    Market Researcher       0.08      0.06      0.07       201\n",
      "                    Marketing Analyst       0.20      0.06      0.09       188\n",
      "                Marketing Coordinator       0.44      0.39      0.41       196\n",
      "                 Marketing Copywriter       0.56      0.42      0.48       224\n",
      "                    Marketing Manager       0.98      0.95      0.97       194\n",
      "                   Marriage Counselor       0.10      0.13      0.11       196\n",
      "                  Mechanical Designer       0.32      0.80      0.46       193\n",
      "                  Mechanical Engineer       0.28      0.09      0.13       194\n",
      "                             Musician       1.00      1.00      1.00       203\n",
      "                                Nurse       0.98      0.99      0.99       217\n",
      "               Occupational Therapist       0.09      0.16      0.12       201\n",
      "                      Pediatric Nurse       0.21      0.13      0.16       197\n",
      "                         Pediatrician       0.18      0.20      0.19       202\n",
      "                           Pharmacist       1.00      1.00      1.00       209\n",
      "                   Physical Therapist       0.10      0.10      0.10       200\n",
      "                            Physician       0.31      0.45      0.37       205\n",
      "                     Police Detective       0.98      0.98      0.98       208\n",
      "                       Police Officer       0.45      0.25      0.32       179\n",
      "                      Product Manager       0.98      1.00      0.99       212\n",
      "                         Psychologist       0.31      0.30      0.31       205\n",
      "                Public Health Analyst       0.17      0.22      0.19       179\n",
      "          Public Relations Specialist       0.48      0.07      0.13       214\n",
      "            Quality Control Inspector       0.24      0.04      0.06       192\n",
      "              Radiologic Technologist       1.00      1.00      1.00       190\n",
      "                    Real Estate Agent       0.96      0.98      0.97       209\n",
      "             Rehabilitation Counselor       0.17      0.27      0.21       205\n",
      "                   Research Scientist       0.97      0.91      0.94       195\n",
      "                    Robotics Engineer       0.26      0.04      0.06       191\n",
      "                          Salesperson       0.97      1.00      0.98       213\n",
      "                 Social Media Manager       0.45      0.88      0.60       187\n",
      "                        Social Worker       0.50      0.72      0.59       211\n",
      "                   Software Developer       0.25      0.31      0.28       196\n",
      "    Software Quality Assurance Tester       0.34      0.16      0.22       213\n",
      "                   Speech Pathologist       0.19      0.13      0.15       199\n",
      "                     Speech Therapist       0.07      0.11      0.08       207\n",
      "                         Sports Coach       0.96      0.96      0.96       192\n",
      "                       Tax Accountant       0.98      0.96      0.97       198\n",
      "                        Tax Collector       0.17      0.11      0.13       206\n",
      "                              Teacher       0.96      0.96      0.96       188\n",
      "                     Technical Writer       0.09      0.06      0.07       218\n",
      "                        Urban Planner       0.94      1.00      0.97       200\n",
      "                    Video Game Tester       0.27      0.20      0.23       212\n",
      "                        Web Developer       1.00      0.99      0.99       194\n",
      "                   Wildlife Biologist       0.13      0.09      0.11       204\n",
      "             Wildlife Conservationist       0.23      0.12      0.16       207\n",
      "                            Zoologist       0.16      0.24      0.20       209\n",
      "\n",
      "                             accuracy                           0.49     21000\n",
      "                            macro avg       0.49      0.48      0.47     21000\n",
      "                         weighted avg       0.49      0.49      0.47     21000\n",
      "\n"
     ]
    }
   ],
   "source": [
    "print(f'Accuracy: {accuracy:.2f}')\n",
    "print('Classification Report:\\n', report)"
   ]
  },
  {
   "cell_type": "code",
   "execution_count": 11,
   "id": "83e6a11b",
   "metadata": {},
   "outputs": [
    {
     "data": {
      "text/plain": [
       "['mlp_model.pkl']"
      ]
     },
     "execution_count": 11,
     "metadata": {},
     "output_type": "execute_result"
    }
   ],
   "source": [
    "import joblib\n",
    "\n",
    "# Save the trained model\n",
    "joblib.dump(mlp, 'mlp_model.pkl')\n"
   ]
  },
  {
   "cell_type": "code",
   "execution_count": 12,
   "id": "0b986752",
   "metadata": {},
   "outputs": [],
   "source": [
    "# Load the saved model\n",
    "loaded_mlp = joblib.load('mlp_model.pkl')\n",
    "\n",
    "# Use the loaded model for prediction\n",
    "y_pred = loaded_mlp.predict(X_test_scaled)\n"
   ]
  },
  {
   "cell_type": "code",
   "execution_count": 13,
   "id": "adbd77d0",
   "metadata": {},
   "outputs": [
    {
     "data": {
      "text/plain": [
       "array([[ 0.53135267,  0.14160461,  1.30860576, ...,  0.01903225,\n",
       "        -0.95968715, -0.20362197],\n",
       "       [ 0.62428017,  0.23464326, -0.44935284, ...,  0.27068152,\n",
       "         0.9123503 , -0.16411245],\n",
       "       [-0.05901026,  0.79907774, -0.51427745, ...,  0.35456461,\n",
       "        -2.43300493, -1.78964684],\n",
       "       ...,\n",
       "       [-0.17380306, -0.36700669, -1.56305957, ..., -1.4209608 ,\n",
       "         0.03224958,  0.37208813],\n",
       "       [ 1.4004981 ,  0.63160817, -0.75399908, ...,  0.13087637,\n",
       "         1.88483729,  1.13405737],\n",
       "       [-1.39825951,  0.84249578, -1.71288559, ..., -0.79649779,\n",
       "        -0.90133793,  0.27613644]])"
      ]
     },
     "execution_count": 13,
     "metadata": {},
     "output_type": "execute_result"
    }
   ],
   "source": [
    "X_test_scaled\n"
   ]
  },
  {
   "cell_type": "code",
   "execution_count": 14,
   "id": "b9ef46fc",
   "metadata": {},
   "outputs": [
    {
     "data": {
      "text/plain": [
       "array([53, 89, 88, ..., 20, 78, 20])"
      ]
     },
     "execution_count": 14,
     "metadata": {},
     "output_type": "execute_result"
    }
   ],
   "source": [
    "y_pred"
   ]
  },
  {
   "cell_type": "code",
   "execution_count": 15,
   "id": "b579f884",
   "metadata": {},
   "outputs": [],
   "source": [
    "import joblib\n",
    "\n",
    "# Load the saved model\n",
    "loaded_mlp = joblib.load('mlp_model.pkl')\n"
   ]
  },
  {
   "cell_type": "code",
   "execution_count": 16,
   "id": "8b957e99",
   "metadata": {},
   "outputs": [
    {
     "name": "stdout",
     "output_type": "stream",
     "text": [
      "Predicted Career: Biologist\n"
     ]
    },
    {
     "name": "stderr",
     "output_type": "stream",
     "text": [
      "C:\\Users\\Max Gonsalves\\AppData\\Roaming\\Python\\Python311\\site-packages\\sklearn\\base.py:465: UserWarning: X does not have valid feature names, but StandardScaler was fitted with feature names\n",
      "  warnings.warn(\n"
     ]
    }
   ],
   "source": [
    "# Example sample input (make sure it matches the feature structure)\n",
    "sample_input = [[9.38,8.99,3.55,6.65,6.84,6.46,5.55,5.75,7.77,7.03]]\n",
    "\n",
    "# Scale the input using the same scaler used during training\n",
    "sample_input_scaled = scaler.transform(sample_input)\n",
    "\n",
    "# Make the prediction\n",
    "predicted_career = loaded_mlp.predict(sample_input_scaled)\n",
    "\n",
    "# Decode the predicted label back to the original class\n",
    "predicted_career_label = label_encoder.inverse_transform(predicted_career)\n",
    "\n",
    "print(f'Predicted Career: {predicted_career_label[0]}')"
   ]
  },
  {
   "cell_type": "code",
   "execution_count": null,
   "id": "b33fdb44",
   "metadata": {},
   "outputs": [],
   "source": []
  }
 ],
 "metadata": {
  "kernelspec": {
   "display_name": "Python 3 (ipykernel)",
   "language": "python",
   "name": "python3"
  },
  "language_info": {
   "codemirror_mode": {
    "name": "ipython",
    "version": 3
   },
   "file_extension": ".py",
   "mimetype": "text/x-python",
   "name": "python",
   "nbconvert_exporter": "python",
   "pygments_lexer": "ipython3",
   "version": "3.11.2"
  }
 },
 "nbformat": 4,
 "nbformat_minor": 5
}
